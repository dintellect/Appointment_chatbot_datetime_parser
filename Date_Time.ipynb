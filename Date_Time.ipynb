{
 "cells": [
  {
   "cell_type": "markdown",
   "metadata": {},
   "source": [
    "### Install Package\n"
   ]
  },
  {
   "cell_type": "code",
   "execution_count": null,
   "metadata": {},
   "outputs": [],
   "source": [
    " conda install -c conda-forge parsedatetime "
   ]
  },
  {
   "cell_type": "markdown",
   "metadata": {},
   "source": [
    "### Import Packages"
   ]
  },
  {
   "cell_type": "code",
   "execution_count": 2,
   "metadata": {
    "scrolled": true
   },
   "outputs": [],
   "source": [
    "import parsedatetime as ps\n",
    "from datetime import datetime, timedelta\n",
    "import datetime\n",
    "import time"
   ]
  },
  {
   "cell_type": "markdown",
   "metadata": {},
   "source": [
    "### Date Function for Chatbot Appointment System"
   ]
  },
  {
   "cell_type": "code",
   "execution_count": 3,
   "metadata": {},
   "outputs": [],
   "source": [
    "def dat(value):\n",
    "    value = value.lower()\n",
    "    if value.lower() == \"am\" or value.lower() == \"morning\":        \n",
    "        m = datetime.datetime.now()\n",
    "        return (\"Value:\",\"StartTime:\",\"8:00:00\",\"Endtime:\",\"12:00:00\")\n",
    "    if value.lower() == \"pm\" or value.lower() == \"afternoon\":\n",
    "        m = datetime.datetime.now()\n",
    "        return (\"Value:\",\"Start:\",\"12:00:00\",\"End:\",\"16:00:00\")\n",
    "    if value.lower() == \"evening\":        \n",
    "        m = datetime.datetime.now()\n",
    "        return (\"Value:\",\"Start:\",\"16:00:00\",\"End:\",\"20:00:00\")\n",
    "    if value.lower() == \"tomorrow pm\":\n",
    "        m = datetime.date.today()+ datetime.timedelta(days=1)\n",
    "        return (\"Value:\",\"Start:\",str(m.day)+\"-\"+str(m.month)+\"-\"+str(m.year)+\" \"+\"12:00:00\",\"End:\",str(m.day)+\"-\"+str(m.month)+\"-\"+str(m.year)+\" \"+\"16:00:00\")\n",
    "    if value.lower() == \"tomorrow am\":\n",
    "        m = datetime.date.today()+ datetime.timedelta(days=1)\n",
    "        return (\"Value:\",\"Start:\",str(m.day)+\"-\"+str(m.month)+\"-\"+str(m.year)+\" \"+\"8:00:00\",\"End:\",str(m.day)+\"-\"+str(m.month)+\"-\"+str(m.year)+\" \"+\"12:00:00\")\n",
    "    if value.lower() == \"coming weekend\" or value.lower() == \"weekend\" or value.lower() == \"coming week end\"  :\n",
    "        today = datetime.datetime.today()\n",
    "        start = today + datetime.timedelta((today.weekday() - 1) % 7)\n",
    "        end = today + datetime.timedelta((today.weekday() + 0) % 7)\n",
    "        return (\"Value :\",\"Start :\",str(start.day)+\"-\"+str(start.month)+\"-\"+str(start.year),\"End :\",str(end.day)+\"-\"+str(end.month)+\"-\"+str(end.year))\n",
    "    if value.lower() == \"late afternoon\":\n",
    "        m = datetime.datetime.now()\n",
    "        return (\"Value:\",\"StartTime:\",\"16:00:00\",\"Endtime:\",\"18:00:00\")\n",
    "    if value.lower() == \"noon\":\n",
    "        m = datetime.datetime.now()\n",
    "        return (\"Value:\",\"12:00:00\",\"StartTime:\",\" \",\"EndTime:\",\" \")\n",
    "    if any(word in [\"afternoon\",\"evening\",\"morning\"] for word in value.split()) :\n",
    "        if (((value.split()[0])==\"tomorrow\") or ((value.split()[1])==\"tomorrow\")) and (((value.split()[0])==\"afternoon\") or ((value.split()[1])==\"afternoon\")) :\n",
    "            cal = ps.Calendar()\n",
    "            m = cal.parse(value)\n",
    "            y = (\"Value:\",\"StartTime:\",str(m[0][2])+\"-\"+str(m[0][1])+\"-\"+str(m[0][0])+\" \"+\"12:00:00\",\"EndTime:\",str(m[0][2])+\"-\"+str(m[0][1])+\"-\"+str(m[0][0])+\" \"+\"16:00:00\")\n",
    "            return y\n",
    "        if (((value.split()[0])==\"tomorrow\") or ((value.split()[1])==\"tomorrow\")) and (((value.split()[0])==\"morning\") or ((value.split()[1])== \"morning\")) :\n",
    "            cal = ps.Calendar()\n",
    "            m = cal.parse(value)\n",
    "            y = (\"Value:\",\"StartTime:\",str(m[0][2])+\"-\"+str(m[0][1])+\"-\"+str(m[0][0])+\" \"+\"8:00:00\",\"EndTime:\",str(m[0][2])+\"-\"+str(m[0][1])+\"-\"+str(m[0][0])+\" \"+\"12:00:00\")\n",
    "            return y\n",
    "        if (((value.split()[0])==\"tomorrow\") or ((value.split()[1])==\"tomorrow\")) and (((value.split()[0])==\"evening\") or ((value.split()[1])== \"evening\")) :\n",
    "            cal = ps.Calendar()\n",
    "            m = cal.parse(value)\n",
    "            y = (\"Value:\",\"StartTime:\",str(m[0][2])+\"-\"+str(m[0][1])+\"-\"+str(m[0][0])+\" \"+\"16:00:00\",\"EndTime:\",str(m[0][2])+\"-\"+str(m[0][1])+\"-\"+str(m[0][0])+\" \"+\"20:00:00\")\n",
    "            return y\n",
    "        if (((value.split()[0])==\"today\") or ((value.split()[1])==\"today\")) and (((value.split()[0])==\"afternoon\") or ((value.split()[1])==\"afternoon\")) :\n",
    "            cal = ps.Calendar()\n",
    "            m = cal.parse(value)\n",
    "            y = print(\"Value:\",\"StartTime:\",str(m[0][2])+\"-\"+str(m[0][1])+\"-\"+str(m[0][0])+\" \"+\"12:00:00\",\"EndTime:\",str(m[0][2])+\"-\"+str(m[0][1])+\"-\"+str(m[0][0])+\" \"+\"16:00:00\")\n",
    "            return y\n",
    "        if (((value.split()[0])==\"today\") or ((value.split()[1])==\"today\")) and (((value.split()[0])==\"morning\") or ((value.split()[1])== \"morning\")) :\n",
    "            cal = ps.Calendar()\n",
    "            m = cal.parse(value)\n",
    "            y = (\"Value:\",\"StartTime:\",str(m[0][2])+\"-\"+str(m[0][1])+\"-\"+str(m[0][0])+\" \"+\"8:00:00\",\"EndTime:\",str(m[0][2])+\"-\"+str(m[0][1])+\"-\"+str(m[0][0])+\" \"+\"12:00:00\")\n",
    "            return y\n",
    "        if (((value.split()[0])==\"today\") or ((value.split()[1])==\"today\")) and (((value.split()[0])==\"evening\") or ((value.split()[1])== \"evening\")) :\n",
    "            cal = ps.Calendar()\n",
    "            m = cal.parse(value)\n",
    "            y = (\"Value:\",\"StartTime:\",str(m[0][2])+\"-\"+str(m[0][1])+\"-\"+str(m[0][0])+\" \"+\"16:00:00\",\"EndTime:\",str(m[0][2])+\"-\"+str(m[0][1])+\"-\"+str(m[0][0])+\" \"+\"20:00:00\")\n",
    "            return y   \n",
    "    if  any(word in [\"tomorrow\",\"today\",\"yesterday\"] for word in value.split()) and ((value.find(\"am\")> 0) or (value.find(\"pm\")>0)):\n",
    "        cal = ps.Calendar()\n",
    "        n = cal.parse(value)\n",
    "        y = (\"Value:\",str(n[0][2])+\"-\"+str(n[0][1])+\"-\"+str(n[0][0])+\"  \"+str(n[0][3])+\":\"+str(n[0][4])+\":\"+str(n[0][5]),\"StartTime:\",\" \",\"EndTime:\",\" \")\n",
    "        return y\n",
    "    if any(word in \"to\" for word in value.split()) :\n",
    "        a = value.split()\n",
    "        index=a.index(\"to\")\n",
    "        cal = ps.Calendar()\n",
    "        s = cal.parse(\"\".join(a[:index]))\n",
    "        t = cal.parse(\"\".join(a[index+1:]))\n",
    "        k = (\"Value:\",\"StartTime:\",str(s[0][3])+\":\"+str(s[0][4])+\":\"+str(s[0][5]),\"EndTime:\",str(t[0][3])+\":\"+str(t[0][4])+\":\"+str(t[0][5]))\n",
    "        return k\n",
    "    if (len(value.split())>=1) and ((value.find(\"am\")> 0) or (value.find(\"pm\")>0)):\n",
    "        cal = ps.Calendar()\n",
    "        p = cal.parse(value)\n",
    "        y =(\"Value:\",str(p[0][3])+\":\"+str(p[0][4])+\":\"+str(p[0][5]),\"StartTime:\",\" \",\"EndTime:\",\" \")\n",
    "        return y\n",
    "    else :\n",
    "        cal = ps.Calendar()\n",
    "        m = cal.parse(value)\n",
    "        x = (\"Value:\",str(m[0][2])+\"-\"+str(m[0][1])+\"-\"+str(m[0][0]),\"StartTime:\",\" \",\"EndTime:\",\" \")\n",
    "        return x"
   ]
  },
  {
   "cell_type": "markdown",
   "metadata": {},
   "source": [
    "#### Test"
   ]
  },
  {
   "cell_type": "code",
   "execution_count": 8,
   "metadata": {
    "scrolled": true
   },
   "outputs": [
    {
     "data": {
      "text/plain": [
       "('Value:',\n",
       " 'StartTime:',\n",
       " '12-1-2020 12:00:00',\n",
       " 'EndTime:',\n",
       " '12-1-2020 16:00:00')"
      ]
     },
     "execution_count": 8,
     "metadata": {},
     "output_type": "execute_result"
    }
   ],
   "source": [
    "dat(\"tomorrow afternoon\")"
   ]
  },
  {
   "cell_type": "code",
   "execution_count": 15,
   "metadata": {},
   "outputs": [
    {
     "data": {
      "text/plain": [
       "('Value :', 'Start :', '15-1-2020', 'End :', '16-1-2020')"
      ]
     },
     "execution_count": 15,
     "metadata": {},
     "output_type": "execute_result"
    }
   ],
   "source": [
    "dat(\"coming weekend\")"
   ]
  },
  {
   "cell_type": "code",
   "execution_count": 16,
   "metadata": {},
   "outputs": [
    {
     "data": {
      "text/plain": [
       "('Value:', '10-1-2020', 'StartTime:', ' ', 'EndTime:', ' ')"
      ]
     },
     "execution_count": 16,
     "metadata": {},
     "output_type": "execute_result"
    }
   ],
   "source": [
    "dat(\"yesterday\")"
   ]
  },
  {
   "cell_type": "code",
   "execution_count": 17,
   "metadata": {},
   "outputs": [
    {
     "data": {
      "text/plain": [
       "('Value:',\n",
       " 'StartTime:',\n",
       " '11-1-2020 16:00:00',\n",
       " 'EndTime:',\n",
       " '11-1-2020 20:00:00')"
      ]
     },
     "execution_count": 17,
     "metadata": {},
     "output_type": "execute_result"
    }
   ],
   "source": [
    "dat(\"today evening\")"
   ]
  },
  {
   "cell_type": "code",
   "execution_count": null,
   "metadata": {},
   "outputs": [],
   "source": []
  }
 ],
 "metadata": {
  "kernelspec": {
   "display_name": "Python 3",
   "language": "python",
   "name": "python3"
  },
  "language_info": {
   "codemirror_mode": {
    "name": "ipython",
    "version": 3
   },
   "file_extension": ".py",
   "mimetype": "text/x-python",
   "name": "python",
   "nbconvert_exporter": "python",
   "pygments_lexer": "ipython3",
   "version": "3.7.4"
  }
 },
 "nbformat": 4,
 "nbformat_minor": 2
}
